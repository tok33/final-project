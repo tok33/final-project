{
 "cells": [
  {
   "cell_type": "markdown",
   "metadata": {},
   "source": [
    "I'm choosing to gather the best neighborhood for dogs based on the amount of parks in the neighborhood. I'm doing to do so by determining the acreage of parks per neighborhood."
   ]
  },
  {
   "cell_type": "code",
   "execution_count": 22,
   "metadata": {},
   "outputs": [
    {
     "data": {
      "text/plain": [
       "<matplotlib.axes._subplots.AxesSubplot at 0x7f8248742100>"
      ]
     },
     "execution_count": 22,
     "metadata": {},
     "output_type": "execute_result"
    },
    {
     "data": {
      "image/png": "[encoded data removed]",
      "text/plain": [
       "<Figure size 432x288 with 1 Axes>"
      ]
     },
     "metadata": {
      "needs_background": "light"
     },
     "output_type": "display_data"
    }
   ],
   "source": [
    "import pandas as pd\n",
    "import matplotlib.pyplot as plt\n",
    "\n",
    "parkDict = {}\n",
    "\n",
    "def addToDict(name, acreage):\n",
    "    if name in parkDict: \n",
    "        parkDict[name] += acreage\n",
    "    else:\n",
    "        parkDict[name] = acreage\n",
    "\n",
    "parkData = pd.read_csv(\"park-data.csv\")#.sort_values(by=['acreage'], ascending=False)\n",
    "for index, row in parkData.iterrows():\n",
    "    acreage = row['acreage']\n",
    "    origpkname = row['origpkname']\n",
    "    updatepknm = row['updatepknm']\n",
    "    alterntnam = row['alterntnam']\n",
    "    \n",
    "    addToDict(origpkname, acreage)\n",
    "    addToDict(updatepknm, acreage)\n",
    "    addToDict(alterntnam, acreage)\n",
    "\n",
    "parkData['acreage'].plot(kind=\"bar\")"
   ]
  },
  {
   "cell_type": "code",
   "execution_count": null,
   "metadata": {},
   "outputs": [],
   "source": []
  }
 ],
 "metadata": {
  "kernelspec": {
   "display_name": "Python 3",
   "language": "python",
   "name": "python3"
  },
  "language_info": {
   "codemirror_mode": {
    "name": "ipython",
    "version": 3
   },
   "file_extension": ".py",
   "mimetype": "text/x-python",
   "name": "python",
   "nbconvert_exporter": "python",
   "pygments_lexer": "ipython3",
   "version": "3.8.3"
  }
 },
 "nbformat": 4,
 "nbformat_minor": 4
}
