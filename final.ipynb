{
 "cells": [
  {
   "cell_type": "markdown",
   "metadata": {},
   "source": [
    "# Introduction\n",
    "intro stuff here"
   ]
  },
  {
   "cell_type": "markdown",
   "metadata": {},
   "source": [
    "# Metric 1: Park Acreage - Todd Kocher"
   ]
  },
  {
   "cell_type": "markdown",
   "metadata": {},
   "source": [
    "I'm choosing to gather the best neighborhood for dogs based on the amount of parks in the neighborhood. I'm going to do so by determining the acreage of parks per neighborhood. There's a unique issue to tackle with my data set, in which the data set I have only displays the name of the park, not the name of the neighborhood. As a solution, I found a second data set that ties together park and neighborhood names. This way, I can gather all data using the park data set, then link each respective park to its neighborhood through a second data set."
   ]
  },
  {
   "cell_type": "markdown",
   "metadata": {},
   "source": [
    "First thing we need to do is import are needed libraries:\n",
    "\n",
    "* Pandas - For reading the dataset\n",
    "* PyPlot - For plotting data"
   ]
  },
  {
   "cell_type": "code",
   "execution_count": 1,
   "metadata": {},
   "outputs": [],
   "source": [
    "import pandas as pd\n",
    "import matplotlib.pyplot as plt\n",
    "import geopandas as gpd\n",
    "%matplotlib inline"
   ]
  },
  {
   "cell_type": "markdown",
   "metadata": {},
   "source": [
    "Next I'm going to define an empty dictionary to link the acreage to each park."
   ]
  },
  {
   "cell_type": "code",
   "execution_count": 3,
   "metadata": {},
   "outputs": [],
   "source": [
    "parkDict = {}"
   ]
  },
  {
   "cell_type": "markdown",
   "metadata": {},
   "source": [
    "Next we need to read the park data and add each park with its respective acreage to the dictionary. The tricky part is that each park has up to three different names due to name changes over time. To solve this, I'm going to add all three park names to the dictionary with the same acreage. That way, regardless of which park name the second data set uses to link to a neighborhood, I'll have it covered. We'll do this by iterating over every row in the park data, reading the park name and acreage, then adding it to the dictionary."
   ]
  },
  {
   "cell_type": "code",
   "execution_count": 5,
   "metadata": {},
   "outputs": [],
   "source": [
    "parkData = pd.read_csv(\"tok33/park-data.csv\")\n",
    "for index, row in parkData.iterrows():\n",
    "    acreage = row['acreage']\n",
    "    parkDict[row['origpkname']] = acreage\n",
    "    parkDict[row['updatepknm']] = acreage\n",
    "    parkDict[row['alterntnam']] = acreage"
   ]
  },
  {
   "cell_type": "markdown",
   "metadata": {},
   "source": [
    "Now that we have the acreage for all the parks, we need to read the second data set to link each park to its proper neighborhood. We'll start by creating another dictionary to link acreage to each neighborhood."
   ]
  },
  {
   "cell_type": "code",
   "execution_count": 6,
   "metadata": {},
   "outputs": [],
   "source": [
    "neighDict = {}"
   ]
  },
  {
   "cell_type": "markdown",
   "metadata": {},
   "source": [
    "To read the data, let's iterate through all the parks in the second data set. If we find a park in this data set matching one we have stored in the parkData dictionary, we'll add the acreage from that park to neighDict with its respective neighborhood. Note that if we find two parks from the same neighborhood, we ensure to add the park's acreage to the existing acreage for that neighborhood rather than overriding it."
   ]
  },
  {
   "cell_type": "code",
   "execution_count": 7,
   "metadata": {},
   "outputs": [],
   "source": [
    "links = pd.read_csv(\"tok33/neighborhood-links.csv\")\n",
    "for index, row in links.iterrows():\n",
    "    if row['name'] in parkDict:\n",
    "        if row['neighborhood'] in neighDict:\n",
    "            neighDict[row['neighborhood']] += parkDict[row['name']]\n",
    "        else:\n",
    "            neighDict[row['neighborhood']] = parkDict[row['name']]"
   ]
  },
  {
   "cell_type": "markdown",
   "metadata": {},
   "source": [
    "Next, we're going to create a new dataframe from the neighborhood/acreage dictionary, assigning the columns proper names."
   ]
  },
  {
   "cell_type": "code",
   "execution_count": 8,
   "metadata": {},
   "outputs": [],
   "source": [
    "df = pd.DataFrame(list(neighDict.items()),columns = ['Neighborhood','Acreage'])"
   ]
  },
  {
   "cell_type": "code",
   "execution_count": null,
   "metadata": {},
   "outputs": [],
   "source": []
  },
  {
   "cell_type": "markdown",
   "metadata": {},
   "source": [
    "# Metric 2: XXXX - YYYY"
   ]
  },
  {
   "cell_type": "markdown",
   "metadata": {},
   "source": [
    "# Metric 3: XXXX - YYYY"
   ]
  }
 ],
 "metadata": {
  "kernelspec": {
   "display_name": "Python 3",
   "language": "python",
   "name": "python3"
  },
  "language_info": {
   "codemirror_mode": {
    "name": "ipython",
    "version": 3
   },
   "file_extension": ".py",
   "mimetype": "text/x-python",
   "name": "python",
   "nbconvert_exporter": "python",
   "pygments_lexer": "ipython3",
   "version": "3.8.3"
  }
 },
 "nbformat": 4,
 "nbformat_minor": 4
}
